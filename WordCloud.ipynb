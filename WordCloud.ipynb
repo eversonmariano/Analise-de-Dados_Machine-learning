{
  "nbformat": 4,
  "nbformat_minor": 0,
  "metadata": {
    "colab": {
      "name": "WordCloud.ipynb",
      "private_outputs": true,
      "provenance": [],
      "authorship_tag": "ABX9TyNoPJJkmPZXArTUkwigJkEb",
      "include_colab_link": true
    },
    "kernelspec": {
      "name": "python3",
      "display_name": "Python 3"
    },
    "language_info": {
      "name": "python"
    }
  },
  "cells": [
    {
      "cell_type": "markdown",
      "metadata": {
        "id": "view-in-github",
        "colab_type": "text"
      },
      "source": [
        "<a href=\"https://colab.research.google.com/github/eversonmariano/Analise-de-Dados_Machine-learning/blob/main/WordCloud.ipynb\" target=\"_parent\"><img src=\"https://colab.research.google.com/assets/colab-badge.svg\" alt=\"Open In Colab\"/></a>"
      ]
    },
    {
      "cell_type": "markdown",
      "source": [
        "#Nuvem de palavras"
      ],
      "metadata": {
        "id": "Nishwfs35-_J"
      }
    },
    {
      "cell_type": "code",
      "source": [
        "!pip install WordCloud"
      ],
      "metadata": {
        "id": "Z7E3XYMh6Uqz"
      },
      "execution_count": null,
      "outputs": []
    },
    {
      "cell_type": "code",
      "source": [
        "import numpy as np\n",
        "import pandas as pd\n",
        "import matplotlib.pyplot as plt\n",
        "from wordcloud import WordCloud"
      ],
      "metadata": {
        "id": "JJUJ0Xib6Gfm"
      },
      "execution_count": null,
      "outputs": []
    },
    {
      "cell_type": "code",
      "source": [
        "#Coletar dados\n",
        "frase = 'A onda de frio que atingiu os estados do Centro-Sul ainda promete baixar as temperaturas nesta sexta-feira (20) e no final de semana em boa parte do país, mas, a partir da próxima segunda (23), já começa a dar uma trégua (veja a previsão para os próximos dias abaixo).'\n",
        "frase = frase + 'Nesta quarta-feira (18), a máxima de São Paulo foi 12,3ºC, a tarde mais fria do mês de maio em toda a série histórica. Na segunda, no entanto, os termômetros da capital paulista devem marcar 24ºC. No Rio, a mudança vai ser ainda maior, com termômetros na casa dos 27ºC na início da próxima semana.'"
      ],
      "metadata": {
        "id": "SCILyVkK70NO"
      },
      "execution_count": null,
      "outputs": []
    },
    {
      "cell_type": "code",
      "source": [
        "#Gerar nuvem de palavras\n",
        "Nuvem_Palavra = WordCloud(\n",
        "    background_color='black',\n",
        "    width=1600,\n",
        "    height=1000,\n",
        ").generate(frase)"
      ],
      "metadata": {
        "id": "qX0cV9ih8xNa"
      },
      "execution_count": null,
      "outputs": []
    },
    {
      "cell_type": "code",
      "source": [
        "#Criar o gráfico\n",
        "fig, ax = plt.subplots(figsize = (10, 7))\n",
        "ax.imshow(Nuvem_Palavra, interpolation = 'bilinear')\n",
        "ax.set_axis_off()"
      ],
      "metadata": {
        "id": "BbAgC9SL9Ovj"
      },
      "execution_count": null,
      "outputs": []
    }
  ]
}